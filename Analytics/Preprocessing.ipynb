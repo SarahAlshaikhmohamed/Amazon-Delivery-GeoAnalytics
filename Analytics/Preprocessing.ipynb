{
 "cells": [
  {
   "cell_type": "code",
   "execution_count": null,
   "id": "3cd005ab",
   "metadata": {},
   "outputs": [],
   "source": [
    "import pandas as pd\n",
    "import plotly.express as px"
   ]
  },
  {
   "cell_type": "code",
   "execution_count": null,
   "id": "6bf7da91",
   "metadata": {},
   "outputs": [],
   "source": [
    "df=pd.read_csv(\"Dataset/amazon_delivery.csv\")"
   ]
  }
 ],
 "metadata": {
  "language_info": {
   "name": "python"
  }
 },
 "nbformat": 4,
 "nbformat_minor": 5
}
